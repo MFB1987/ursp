{
 "cells": [
  {
   "cell_type": "markdown",
   "id": "9d2edac8-1122-4af1-992c-6a18a90a6da0",
   "metadata": {},
   "source": [
    "# Change in total off-street parking by land use area: Austin, Texas\n",
    "\n",
    "**Author:** Michael Bochynski  \n",
    "**Program:** Master of Community Planning  \n",
    "**Institution:** University of Maryland, College Park  \n",
    "**School:** School of Architecture, Planning & Preservation  \n",
    "**Course:** URSP631: Transporation & Land Use  \n",
    "**Instructor:** Professor Hiroyuki Iseki  \n",
    "**Date:** 18 May 2025 \n",
    "\n",
    "## Introduction\n",
    "A geospatial analysis comparing historical and current parcel data for off-street parking in Austin, TX."
   ]
  },
  {
   "cell_type": "markdown",
   "id": "c7bb9a17-ee9d-4815-bf56-266d9a60157f",
   "metadata": {},
   "source": [
    "## Load Packagae(s)"
   ]
  },
  {
   "cell_type": "code",
   "execution_count": 112,
   "id": "ce33560a-1428-4869-a8f6-468a0b5490eb",
   "metadata": {},
   "outputs": [],
   "source": [
    "import geopandas as gpd"
   ]
  },
  {
   "cell_type": "markdown",
   "id": "d4441d5f-80f9-4f0f-ba4c-ff9b813811bf",
   "metadata": {},
   "source": [
    "## Load Data\n",
    "\n",
    "Four spatial datasets were used:\n",
    "- 2024 Austin Parking Data ('Austin_Off_Street_Parking_Locations.shp')\n",
    "- 2021 Austin Land Use Data ('Austin_2021_Landuse.shp')"
   ]
  },
  {
   "cell_type": "code",
   "execution_count": 106,
   "id": "ba8038be-5977-40c2-858a-1c2677970d55",
   "metadata": {},
   "outputs": [],
   "source": [
    "# Load data\n",
    "austin_parking = gpd.read_file('Data/Austin_Off_Street_Parking_Locations.shp')\n",
    "austin_historical = gpd.read_file('Data/Austin_2021_Landuse.shp')"
   ]
  },
  {
   "cell_type": "markdown",
   "id": "2cda988f-4963-48a2-9812-44d783123a0e",
   "metadata": {},
   "source": [
    "## Total Parking Area Calculation\n",
    "- The historical dataset was projected to EPSG:3857 (meters) to ensure accurate area measurements.\n",
    "- Parking records were isolated based on the lu_desc == 'Parking' field in the historical data.\n",
    "- Area was computed using the .area attribute of geometry after projection.\n",
    "- For 2024, the area was directly summed from the SHAPE_AREA field"
   ]
  },
  {
   "cell_type": "code",
   "execution_count": 113,
   "id": "ac2cb119-b39c-4d83-bea5-352e14f4c860",
   "metadata": {},
   "outputs": [
    {
     "name": "stdout",
     "output_type": "stream",
     "text": [
      "2021 Austin total parking landuse area: 3333734.785036171 sq meters\n",
      "2024 Austin total parking landuse area: 3236710.13624305 sq meters\n"
     ]
    }
   ],
   "source": [
    "# Project historical data to EPSG:3857\n",
    "austin_historical_proj = historical.to_crs(epsg=3857)\n",
    "\n",
    "# Filter for parking and sum area\n",
    "austin_total_parking_area_2021 = austin_historical_proj[historical_proj['lu_desc'] == 'Parking']['geometry'].area.sum()\n",
    "\n",
    "print(f\"2021 Austin total parking landuse area: {austin_total_parking_area_2021} sq meters\")\n",
    "\n",
    "austin_total_parking_area_2024 = parking['SHAPE_AREA'].sum()\n",
    "print(f\"2024 Austin total parking landuse area: {austin_total_parking_area_2024} sq meters\")"
   ]
  },
  {
   "cell_type": "markdown",
   "id": "026a2b74-867d-47e9-949e-a280544cae75",
   "metadata": {},
   "source": [
    "## Analysis\n",
    "Decrease in total off-street parking area by approximately 97,000 square meters (24 acres) over a three-year span. The change may reflect early evidence of urban densification.\n",
    "\n",
    "Potential contributing factors:\n",
    "- Redevelopment of surface parking lots for other uses (e.g., housing, commercial, mixed-use)\n",
    "- Reclassification or removal of parcels from parking inventory\n",
    "- Changes in land use policy or elimination of parking minimums"
   ]
  },
  {
   "cell_type": "markdown",
   "id": "5a1439e6-19ad-40c4-8f17-ad574bc41de9",
   "metadata": {},
   "source": [
    "## Next Steps\n",
    "\n",
    "### Spatial comparison of 2021 vs. 2024 parking geometries:\n",
    "- Identify specific locations where parking was removed or added\n",
    "- Visualize change geographically (e.g., heatmaps or difference layers)\n",
    "\n",
    "### Disaggregate analysis:\n",
    "- Examine parking change by neighborhood, zoning category, council district, or proximity to transit\n",
    "\n",
    "### Policy overlay:\n",
    "- Evaluate changes alongside zoning amendments or plans that impact parking minimums\n",
    "- Investigate data lineage to confirm temporal accuracy of \"historical\" dataset"
   ]
  },
  {
   "cell_type": "markdown",
   "id": "869b90ed-3692-45b4-9705-8d3c803cf4f5",
   "metadata": {},
   "source": [
    "## References\n",
    "- City of Austin. (November 29, 2021). Land Database 2021 [Dataset]. Austin Open Data Portal.<br> \n",
    "  https://data.austintexas.gov/Housing-and-Real-Estate/Land-Database-2021/kk8y-6cmt\n",
    "- City of Austin. (April 24, 2025). Off-Street Parking [Dataset]. Austin Open Data Portal.<br>\n",
    "  https://data.austintexas.gov/Transportation-and-Mobility/Off-Street-Parking/nura-qkf6"
   ]
  },
  {
   "cell_type": "code",
   "execution_count": null,
   "id": "3b895f79-99bd-44d0-a7bb-6fb161a65cec",
   "metadata": {},
   "outputs": [],
   "source": []
  }
 ],
 "metadata": {
  "kernelspec": {
   "display_name": "Python 3 (ipykernel)",
   "language": "python",
   "name": "python3"
  },
  "language_info": {
   "codemirror_mode": {
    "name": "ipython",
    "version": 3
   },
   "file_extension": ".py",
   "mimetype": "text/x-python",
   "name": "python",
   "nbconvert_exporter": "python",
   "pygments_lexer": "ipython3",
   "version": "3.12.3"
  }
 },
 "nbformat": 4,
 "nbformat_minor": 5
}
